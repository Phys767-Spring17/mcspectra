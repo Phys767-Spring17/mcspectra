{
 "cells": [
  {
   "cell_type": "code",
   "execution_count": 1,
   "metadata": {
    "collapsed": true
   },
   "outputs": [],
   "source": [
    "# Function that does n iterations of RMS calculation\n",
    "\n",
    "import numpy as np\n",
    "import matplotlib.pyplot as plt\n",
    "\n",
    "def mc_rms (y_array1, y_array2, unc1, unc2, n):\n",
    "    plt.clf()\n",
    "    \n",
    "    RMS=[]\n",
    "\n",
    "    for w in range(n):\n",
    "        y_array1_rand = y_array1 + (np.random.randn(len(y_array1)) * unc1)\n",
    "        y_array2_rand = y_array2 + (np.random.randn(len(y_array2)) * unc2)\n",
    "        diff = y_array1_rand - y_array2_rand\n",
    "        rms = (np.sum(diff**2))/(len(diff))**(0.5)\n",
    "        RMS.append(rms)\n",
    "       \n",
    "    avg = np.mean(RMS)\n",
    "#     error = np.std(RMS)\n",
    "#     print('RMS = ',avg, '+/-', error)\n",
    "#     print(avg)\n",
    "    return avg\n",
    "    \n",
    "    RMS.sort()\n",
    "#     plt.hist(RMS, bins=50)\n",
    "#     plt.ylabel('Frequency')\n",
    "#     plt.xlabel('RMS')\n",
    "#     plt.show()\n",
    "\n",
    "    \n",
    "#     print(RMS)"
   ]
  },
  {
   "cell_type": "code",
   "execution_count": 2,
   "metadata": {
    "collapsed": false
   },
   "outputs": [
    {
     "name": "stdout",
     "output_type": "stream",
     "text": [
      "Database ready for use\n"
     ]
    }
   ],
   "source": [
    "# Derived from ycfq_auto:\n",
    "\n",
    "#yfcq_auto\n",
    "import matplotlib.pyplot as plt\n",
    "import numpy as np\n",
    "from scipy import interpolate\n",
    "from scipy.interpolate import interp1d\n",
    "# import BDdb\n",
    "import astrodb\n",
    "import pandas as pd\n",
    "db = astrodb.Database('/Users/victoriaditomasso/Desktop/BDNYCdeprecated.db')\n",
    "\n",
    "# The inputs are the target source id, the spec order being compared and the path to the text file with the comparison sample (has to be tab delimited)\n",
    "def yfcq(tar_source_id, spec_order, path_to_comp_sample_dataframe):\n",
    "\n",
    "# This clears the figure, useful when saving the plots\n",
    "    plt.clf()\n",
    "\n",
    "    data_tar = db.query(\"select sources.id, sources.shortname, spectra.wavelength, spectra.flux, spectra.unc, radial_velocities.radial_velocity from sources join spectra on sources.id=spectra.source_id join radial_velocities on spectra.source_id=radial_velocities.source_id where spectra.source_id={} and spectra.wavelength_order={}\".format(tar_source_id, spec_order))\n",
    "\n",
    "    df=pd.read_csv(path_to_comp_sample_dataframe,sep='\\t')\n",
    "\n",
    "    rms_100s=[]\n",
    "    rms_200s=[]\n",
    "    rms_500s=[]\n",
    "    rms_1000s=[]\n",
    "\n",
    "    for i, row in df.iterrows() :\n",
    "\n",
    "        plt.clf()\n",
    "        \n",
    "#Gets the wavelength, flux, and uncertainty for the spec_ids listed in comp_sample\n",
    "        data_comp = db.query(\"select spectra.wavelength, spectra.flux, spectra.unc from spectra where spectra.id={}\".format(row['spec_id']))\n",
    "    \n",
    "# Separates out the wavelength array, flux array, RV and uncertainty as a float for the two spectra\t\n",
    "        w_tar = np.asarray(data_tar[0][2])\n",
    "        f_tar = np.asarray(data_tar[0][3])\n",
    "\n",
    "        w_comp = np.asarray(data_comp[0][0])\n",
    "        f_comp = np.asarray(data_comp[0][1])\n",
    "\n",
    "        rv_tar = data_tar[0][5]\n",
    "        rv_comp = row['rv']\n",
    "\n",
    "        unc_tar = data_tar[0][4]\n",
    "        unc_comp = data_comp[0][2]\n",
    "\n",
    "# Shifts the two spectra based on their RVs\n",
    "        shifted_w_tar = (w_tar)*(1.-(rv_tar/2.99792458e5))\n",
    "        shifted_w_comp = (w_comp)*(1.-(rv_comp/2.99792458e5))\n",
    "\n",
    "# Interpolates the flux for the comp object so that when I subtract it from the target flux, I will get a properly calculated residual\n",
    "# Remember: once you interpolate, you need to plot the w_tar vs the interpolated flux NOT w_comp vs interpolated flux\n",
    "        x = shifted_w_tar\n",
    "        xp = shifted_w_comp\n",
    "        fp = f_comp\n",
    "        f_comp_interp = np.interp(x, xp, fp)\n",
    "\n",
    "#Checking if unc arrays are actually snrs and, if they are, converting them by doing 1/unc\n",
    "        unc=np.asarray(unc_comp)\n",
    "        avg_unc = np.sum(unc)/len(unc)\n",
    "        if avg_unc > 4.0:\n",
    "            unc_comp = 1.0/unc\n",
    "#         if avg_unc == 1.0:\n",
    "#             print 'UNC AVG = 1:'\n",
    "\n",
    "# Interpolate the unc\n",
    "        w = shifted_w_tar\n",
    "        wp = shifted_w_comp\n",
    "        up = unc_comp\n",
    "        unc_comp_interp = np.interp(w, wp, up)\n",
    "\n",
    "# Finds a normalization coefficient\t\n",
    "        dk = sum((f_tar * f_comp)/((unc_tar)**2 + (unc_comp_interp)**2))/sum((f_comp * f_comp)/((unc_tar)**2 + (unc_comp_interp)**2))\n",
    "\n",
    "# Creates an array of normalized flux for the comparison object\n",
    "        f_comp_norm_dk = f_comp * dk\n",
    "        f_comp_norm_dk_interp = f_comp_interp * dk\n",
    "\n",
    "#Sets the first and last flux point that will be used in quantification calculation/will be plotted\n",
    "        f=50\n",
    "        l=1000\n",
    "        \n",
    "        y_array1 = f_tar[f:l]\n",
    "        y_array2 = f_comp_norm_dk_interp[f:l]\n",
    "        unc1 = unc_tar[f:l]\n",
    "        unc2 = unc_comp_interp[f:l]\n",
    "        n = 100\n",
    "        rms_100 = mc_rms (y_array1, y_array2, unc1, unc2, n)\n",
    "        rms_100s.append(rms_100)\n",
    "        \n",
    "        m=200\n",
    "        rms_200 = mc_rms (y_array1, y_array2, unc1, unc2, m)\n",
    "        rms_200s.append(rms_200)\n",
    "        \n",
    "        q=500\n",
    "        rms_500 = mc_rms (y_array1, y_array2, unc1, unc2, q)\n",
    "        rms_500s.append(rms_500)      \n",
    "        \n",
    "        r=1000\n",
    "        rms_1000 = mc_rms (y_array1, y_array2, unc1, unc2, r)\n",
    "        rms_1000s.append(rms_1000)\n",
    "\n",
    "        \n",
    "#         plt.plot(shifted_w_tar[f:l], f_tar[f:l], color='black')\n",
    "#         plt.plot(shifted_w_tar[f:l], f_comp_norm_dk_interp[f:l], color='red')\n",
    "#         plt.show()\n",
    "    df['RMS n=100'] = rms_100s\n",
    "    df['RMS n=200'] = rms_200s\n",
    "    df['RMS n=500'] = rms_500s\n",
    "    df['RMS n=1000'] = rms_1000s\n",
    "    \n",
    "    df.to_csv(str(data_tar[0][1])+'_'+str(spec_order)+'testing_mc.txt',sep='\\t')"
   ]
  },
  {
   "cell_type": "code",
   "execution_count": 3,
   "metadata": {
    "collapsed": false
   },
   "outputs": [],
   "source": [
    "yfcq(334, 61, \"/Users/victoriaditomasso/Plotting_Spectra/comp_sample_order_61_badremoved.txt\")"
   ]
  },
  {
   "cell_type": "code",
   "execution_count": 4,
   "metadata": {
    "collapsed": true
   },
   "outputs": [],
   "source": [
    "yfcq(98, 61, \"/Users/victoriaditomasso/Plotting_Spectra/comp_sample_order_61_badremoved.txt\")"
   ]
  },
  {
   "cell_type": "code",
   "execution_count": null,
   "metadata": {
    "collapsed": true
   },
   "outputs": [],
   "source": []
  }
 ],
 "metadata": {
  "kernelspec": {
   "display_name": "Python 3",
   "language": "python",
   "name": "python3"
  },
  "language_info": {
   "codemirror_mode": {
    "name": "ipython",
    "version": 3
   },
   "file_extension": ".py",
   "mimetype": "text/x-python",
   "name": "python",
   "nbconvert_exporter": "python",
   "pygments_lexer": "ipython3",
   "version": "3.6.0"
  }
 },
 "nbformat": 4,
 "nbformat_minor": 2
}
